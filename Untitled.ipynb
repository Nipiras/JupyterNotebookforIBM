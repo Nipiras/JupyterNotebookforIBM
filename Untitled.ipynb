{
  "cells": [
    {
      "cell_type": "markdown",
      "id": "dda46fe3",
      "metadata": {
        "id": "dda46fe3"
      },
      "source": [
        "# Data Science Tools and Ecosystem"
      ]
    },
    {
      "cell_type": "markdown",
      "id": "e340391b",
      "metadata": {
        "id": "e340391b"
      },
      "source": [
        "In this notebook, DS Tools and Ecosystem are summarized.\n",
        "\n",
        "# Objectives: \n",
        "- Lanuages used in data science\n",
        "- Tools for data science\n",
        "- Working on jupyter lab\n",
        "- working on Github\n",
        "- introduction to python, R\n"
      ]
    },
    {
      "cell_type": "markdown",
      "id": "076145f4",
      "metadata": {
        "id": "076145f4"
      },
      "source": [
        "Some of the popular languages that Data Scientists use are:\n",
        "1. Python\n",
        "2. SQL\n",
        "3. R\n",
        "4. Scala\n",
        "5. Java\n",
        "6. C++\n",
        "7. Javascript\n",
        "8. PHP\n",
        "9. GO\n",
        "10. Ruby\n",
        "11. Visual Basic"
      ]
    },
    {
      "cell_type": "markdown",
      "id": "cafe8f1d",
      "metadata": {
        "id": "cafe8f1d"
      },
      "source": [
        "Some of the commonly used libraries used by Data Scientists include:\n",
        "- Numpy\n",
        "- Pandas\n",
        "- Matplotlib\n",
        "- Seaborn\n",
        "- Scikit-learn\n",
        "- Keras\n",
        "- Tensor Flow\n",
        "- pytorch\n",
        "- Apache Spark\n",
        "- Vegas\n",
        "- Big DL\n",
        "- Ggplot2"
      ]
    },
    {
      "cell_type": "markdown",
      "id": "83a1ae87",
      "metadata": {
        "id": "83a1ae87"
      },
      "source": [
        "|Data Science Tools|\n",
        "|---|\n",
        "|Anaconda|\n",
        "|R Studio|\n",
        "|Jupyter notebook|\n",
        "|Spyder|\n",
        "|Zeppelin|\n",
        "|VS Code|"
      ]
    },
    {
      "cell_type": "markdown",
      "id": "91f59608",
      "metadata": {
        "id": "91f59608"
      },
      "source": [
        "# Below are a few examples of evaluating arithmetic expressions in Python"
      ]
    },
    {
      "cell_type": "markdown",
      "id": "c066941a",
      "metadata": {
        "id": "c066941a"
      },
      "source": [
        "- a = 2\n",
        "- b = 2\n",
        "- c = a + b\n",
        "- d = a * b\n",
        "- e = a/b\n",
        "- print (c + d + e)"
      ]
    },
    {
      "cell_type": "code",
      "execution_count": 1,
      "id": "bcbf8f2e",
      "metadata": {
        "colab": {
          "base_uri": "https://localhost:8080/"
        },
        "id": "bcbf8f2e",
        "outputId": "25b5913e-cc0d-40dc-f66a-aeab8580420c"
      },
      "outputs": [
        {
          "output_type": "execute_result",
          "data": {
            "text/plain": [
              "19"
            ]
          },
          "metadata": {},
          "execution_count": 1
        }
      ],
      "source": [
        "#This a simple arithmetic expression to mutiply then add integers\n",
        "a = (2*6)+7\n",
        "a"
      ]
    },
    {
      "cell_type": "code",
      "execution_count": 3,
      "id": "82d05f4b",
      "metadata": {
        "colab": {
          "base_uri": "https://localhost:8080/"
        },
        "id": "82d05f4b",
        "outputId": "2d682892-5541-4e7d-cb62-19c18b310722"
      },
      "outputs": [
        {
          "output_type": "execute_result",
          "data": {
            "text/plain": [
              "2.0"
            ]
          },
          "metadata": {},
          "execution_count": 3
        }
      ],
      "source": [
        "#this will convert 200 minutes to hours by diving by 60\n",
        "min = 120\n",
        "hour = min/60\n",
        "hour"
      ]
    },
    {
      "cell_type": "markdown",
      "source": [
        "### Objectives\n",
        "- To acquire a comprehensive understanding of the principles and concepts of data science.\n",
        "\n",
        "- To achieve a high level of proficiency in the analysis and visualization of data.\n",
        "\n",
        "- To gain proficiency in the use of data science tools and technologies, including Python and SQL.\n",
        "\n",
        "- To apply data science techniques effectively to address real-world problems and research questions.\n",
        "\n",
        "- To effectively communicate data insights to diverse audiences using various forms of visualization, reporting, and presentation."
      ],
      "metadata": {
        "id": "vXumBfq0xtJT"
      },
      "id": "vXumBfq0xtJT"
    },
    {
      "cell_type": "markdown",
      "id": "681c07a8",
      "metadata": {
        "id": "681c07a8"
      },
      "source": [
        "# Author\n",
        "Erdem KARA\n"
      ]
    }
  ],
  "metadata": {
    "kernelspec": {
      "display_name": "Python 3 (ipykernel)",
      "language": "python",
      "name": "python3"
    },
    "language_info": {
      "codemirror_mode": {
        "name": "ipython",
        "version": 3
      },
      "file_extension": ".py",
      "mimetype": "text/x-python",
      "name": "python",
      "nbconvert_exporter": "python",
      "pygments_lexer": "ipython3",
      "version": "3.9.13"
    },
    "colab": {
      "provenance": []
    }
  },
  "nbformat": 4,
  "nbformat_minor": 5
}