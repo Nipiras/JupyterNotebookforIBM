{
 "cells": [
  {
   "cell_type": "markdown",
   "id": "a8922921-883e-43f4-b206-347c08004820",
   "metadata": {},
   "source": [
    "# Notebook"
   ]
  },
  {
   "cell_type": "markdown",
   "id": "13848bfe-5d43-4b2c-9d36-de65ce4bb9fc",
   "metadata": {},
   "source": [
    "introduction"
   ]
  },
  {
   "cell_type": "markdown",
   "id": "299eba03-b58a-4faa-9d29-183aa1f9a328",
   "metadata": {},
   "source": [
    "Data Science Languages\n",
    "- Python\n",
    "- R\n",
    "- SQL"
   ]
  },
  {
   "cell_type": "markdown",
   "id": "e0c165cf-10d0-4af4-b57e-b64e6b09835e",
   "metadata": {},
   "source": [
    "Data Libraries\n",
    "\n",
    "- Numpy\n",
    "- Pandas\n",
    "- Matplotlib\n",
    "- Seaborn\n",
    "- sci-kit learn\n",
    "- Keras\n",
    "- Tensor Flow\n",
    "- pytorch"
   ]
  },
  {
   "cell_type": "markdown",
   "id": "c0bcc79b-5b45-4c62-9475-9d0fe2341393",
   "metadata": {},
   "source": [
    "Data Science Tools\n",
    "|Categories|Tools|\n",
    "|---|---|\n",
    "| Data Management | MySQL, PostgreSQL, MongoDB, Apache CouchDB, Apache Cassandra, Hadoop File System, Ceph, and elastic search|\n",
    "| Data Integration and Transformation | Apache AirFlow, KubeFlow, Apache Kafka, Apache Nifi, Apache SparkSQL, and NodeRED|\n",
    "| Data Visualization | Pixie Dust, Hue, Kibana, and Apache Superse|\n",
    "| Model Building | SPSS Modeler, SAS enterprise miner|\n",
    "| Model Deployment | Apache PredictionIO, Seldon, Kubernetes, Redhat OpenShift, Mleap, TensorFlow service, TensorFlow lite, and TensorFlow.JS|\n",
    "| Model Monitoring and Assessment | ModelDB, Prometheus, IBM AI Fairness 360, IBM Adversarial Robustness 360 Toolbox, and IBM AI Explainability 360|\n",
    "| Data Asset Management | Apache Atlas, ODPi Egeria, and Kylo |\n",
    "| Code Asset Management | Git, GitHub, GitLab, and Bitbucket |"
   ]
  },
  {
   "cell_type": "markdown",
   "id": "8217c34b-93a2-4a30-b23e-e054a9394e57",
   "metadata": {},
   "source": [
    " - 7 + 3 = 10\n",
    " - (5 - 2) * 1 = 3\n",
    " - 4 / 2 = 2"
   ]
  },
  {
   "cell_type": "code",
   "execution_count": 3,
   "id": "f5c4d9cd-9707-4f7b-87cd-0408f9f15e0d",
   "metadata": {},
   "outputs": [
    {
     "data": {
      "text/plain": [
       "16"
      ]
     },
     "execution_count": 3,
     "metadata": {},
     "output_type": "execute_result"
    }
   ],
   "source": [
    "x = 3\n",
    "y = 4\n",
    "z = x * y + y\n",
    "z"
   ]
  },
  {
   "cell_type": "code",
   "execution_count": 7,
   "id": "df1fa137-106a-4667-a29c-6d203c969187",
   "metadata": {},
   "outputs": [
    {
     "data": {
      "text/plain": [
       "2.0"
      ]
     },
     "execution_count": 7,
     "metadata": {},
     "output_type": "execute_result"
    }
   ],
   "source": [
    "min = 120\n",
    "hour = min / 60\n",
    "hour"
   ]
  },
  {
   "cell_type": "markdown",
   "id": "b0181ccd-2dc9-4f78-96da-4be79e009846",
   "metadata": {},
   "source": [
    "Objectives\n",
    "- To acquire a comprehensive understanding of the principles and concepts of data science.\n",
    "\n",
    "- To achieve a high level of proficiency in the analysis and visualization of data.\n",
    "\n",
    "- To gain proficiency in the use of data science tools and technologies, including Python and SQL.\n",
    "\n",
    "- To apply data science techniques effectively to address real-world problems and research questions.\n",
    "\n",
    "- To effectively communicate data insights to diverse audiences using various forms of visualization, reporting, and presentation."
   ]
  },
  {
   "cell_type": "markdown",
   "id": "39277336-3cb8-4a54-a211-f1a4d84c3955",
   "metadata": {},
   "source": [
    "Erdem KARA"
   ]
  },
  {
   "cell_type": "code",
   "execution_count": null,
   "id": "ef91120e-6584-421e-a0fe-7c85a2a240e2",
   "metadata": {},
   "outputs": [],
   "source": []
  }
 ],
 "metadata": {
  "kernelspec": {
   "display_name": "Python",
   "language": "python",
   "name": "conda-env-python-py"
  },
  "language_info": {
   "codemirror_mode": {
    "name": "ipython",
    "version": 3
   },
   "file_extension": ".py",
   "mimetype": "text/x-python",
   "name": "python",
   "nbconvert_exporter": "python",
   "pygments_lexer": "ipython3",
   "version": "3.7.12"
  }
 },
 "nbformat": 4,
 "nbformat_minor": 5
}
